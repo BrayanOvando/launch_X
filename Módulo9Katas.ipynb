{
 "cells": [
  {
   "cell_type": "markdown",
   "metadata": {},
   "source": [
    "# problema 1"
   ]
  },
  {
   "cell_type": "code",
   "execution_count": 6,
   "metadata": {},
   "outputs": [
    {
     "name": "stdout",
     "output_type": "stream",
     "text": [
      "Informe de combustible:\n",
      "    Promedio total: 78.33333333333333%\n",
      "    Tanque principal: 80%\n",
      "    Tanque externo: 70%\n",
      "    Tanque de hidrógeno: 85%\n",
      "    \n",
      "reporte completo:\n",
      "    Total Average: 78.0%\n",
      "    tanque principal: 88%\n",
      "    External tank: 76%\n",
      "    Hydrogen tank: 70% \n",
      "    \n"
     ]
    }
   ],
   "source": [
    "def generar_informe(tanque_principal, tanque_externo, tanque_hidrógeno):\n",
    "    promedio_total = (tanque_principal + tanque_externo + tanque_hidrógeno) / 3\n",
    "    return f\"\"\"Informe de combustible:\n",
    "    Promedio total: {promedio_total}%\n",
    "    Tanque principal: {tanque_principal}%\n",
    "    Tanque externo: {tanque_externo}%\n",
    "    Tanque de hidrógeno: {tanque_hidrógeno }%\n",
    "    \"\"\"\n",
    "print(generar_informe(80, 70, 85))\n",
    "def informe(values):\n",
    "    total = sum(values)\n",
    "    number_of_items = len(values)\n",
    "    return total / number_of_items\n",
    "informe([80, 85, 81]) \n",
    "def generate_report(tanque_principal, tanque_externo, tanque_hidrógeno):\n",
    "    return f\"\"\"reporte completo:\n",
    "    Total Average: {informe([tanque_principal, tanque_externo, tanque_hidrógeno])}%\n",
    "    tanque principal: {tanque_principal}%\n",
    "    External tank: {tanque_externo}%\n",
    "    Hydrogen tank: {tanque_hidrógeno}% \n",
    "    \"\"\"\n",
    "print(generate_report(88, 76, 70))\n",
    "\n",
    "\n"
   ]
  },
  {
   "cell_type": "markdown",
   "metadata": {},
   "source": [
    "# problema 2"
   ]
  },
  {
   "cell_type": "code",
   "execution_count": 10,
   "metadata": {},
   "outputs": [
    {
     "name": "stdout",
     "output_type": "stream",
     "text": [
      "\n",
      "    Misión a Luna\n",
      "    Tiempo total de viaje: 65 minutos\n",
      "    Combustible total restante: 500000 galones\n",
      "    \n",
      "\n",
      "    Mision a la luna\n",
      "    Total tiempo de viaje: 76 minutos\n",
      "    combustible total restante: 500000\n",
      "    \n",
      "\n",
      "    Misión a Luna\n",
      "    Tiempo total de viaje: 74 minutos\n",
      "    Combustible total restante: 500000\n",
      "    principal tanque --> 300000 galones restantes\n",
      "externo tanque --> 200000 galones restantes\n",
      "\n"
     ]
    }
   ],
   "source": [
    "def mision_reporte(pre_tiempo_lanzamiento, tiempo_vuelo, destino, tanque_externo, tanque_principal):\n",
    "    return f\"\"\"\n",
    "    Misión a {destino}\n",
    "    Tiempo total de viaje: {pre_tiempo_lanzamiento + tiempo_vuelo} minutos\n",
    "    Combustible total restante: {tanque_externo + tanque_principal} galones\n",
    "    \"\"\"\n",
    "print(mision_reporte (14, 51, \"Luna\", 200000, 300000))\n",
    "def mision_reporte(destino, *minutos, **total_reservas):\n",
    "    return f\"\"\"\n",
    "    Mision a la {destino}\n",
    "    Total tiempo de viaje: {sum(minutos)} minutos\n",
    "    combustible total restante: {sum(total_reservas.values())}\n",
    "    \"\"\"\n",
    "print(mision_reporte(\"luna\", 10, 15, 51, main=300000, external=200000))\n",
    "def informe_principal (destino, *minutos, **total_reservas):\n",
    "    informe_principal = f\"\"\"\n",
    "    Misión a {destino}\n",
    "    Tiempo total de viaje: {sum(minutos)} minutos\n",
    "    Combustible total restante: {sum(total_reservas.values())}\n",
    "    \"\"\"\n",
    "    for nombre_tanque, galones in total_reservas.items():\n",
    "        informe_principal += f\"{nombre_tanque} tanque --> {galones} galones restantes\\n\"\n",
    "    return informe_principal\n",
    "\n",
    "print(informe_principal(\"Luna\", 8, 11, 55, principal = 300000, externo = 200000))"
   ]
  }
 ],
 "metadata": {
  "interpreter": {
   "hash": "669f5abd92f1a410df15b0643b9f42360e277a412fc08ae8bc7d7911cf7e8f3d"
  },
  "kernelspec": {
   "display_name": "Python 3.10.2 64-bit",
   "language": "python",
   "name": "python3"
  },
  "language_info": {
   "codemirror_mode": {
    "name": "ipython",
    "version": 3
   },
   "file_extension": ".py",
   "mimetype": "text/x-python",
   "name": "python",
   "nbconvert_exporter": "python",
   "pygments_lexer": "ipython3",
   "version": "3.10.2"
  },
  "orig_nbformat": 4
 },
 "nbformat": 4,
 "nbformat_minor": 2
}
