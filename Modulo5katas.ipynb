{
 "cells": [
  {
   "cell_type": "markdown",
   "metadata": {},
   "source": [
    "# Problema 1\n",
    "\n"
   ]
  },
  {
   "cell_type": "code",
   "execution_count": 13,
   "metadata": {},
   "outputs": [
    {
     "name": "stdout",
     "output_type": "stream",
     "text": [
      "628949330\n",
      "390577533.93\n"
     ]
    }
   ],
   "source": [
    "\n",
    "tierra = 149597870 \n",
    "jupiter = 778547200 \n",
    "\n",
    "distancia_km = (jupiter - tierra)\n",
    "print(distancia_km)\n",
    "\n",
    "distacia_millas = distancia_km * 0.621\n",
    "print(distacia_millas)"
   ]
  },
  {
   "cell_type": "markdown",
   "metadata": {},
   "source": [
    "# Problema 2\n"
   ]
  },
  {
   "cell_type": "code",
   "execution_count": 14,
   "metadata": {},
   "outputs": [
    {
     "ename": "ValueError",
     "evalue": "invalid literal for int() with base 10: ''",
     "output_type": "error",
     "traceback": [
      "\u001b[1;31m---------------------------------------------------------------------------\u001b[0m",
      "\u001b[1;31mValueError\u001b[0m                                Traceback (most recent call last)",
      "\u001b[1;32mc:\\Users\\miguel\\launch X\\Modulo5katas.ipynb Cell 4'\u001b[0m in \u001b[0;36m<module>\u001b[1;34m\u001b[0m\n\u001b[0;32m      <a href='vscode-notebook-cell:/c%3A/Users/miguel/launch%20X/Modulo5katas.ipynb#ch0000002?line=0'>1</a>\u001b[0m planeta_1 \u001b[39m=\u001b[39m \u001b[39minput\u001b[39m(\u001b[39m\"\u001b[39m\u001b[39mingrese la distancia del primer planeta en kilimetros\u001b[39m\u001b[39m\"\u001b[39m)\n\u001b[0;32m      <a href='vscode-notebook-cell:/c%3A/Users/miguel/launch%20X/Modulo5katas.ipynb#ch0000002?line=1'>2</a>\u001b[0m planeta_2 \u001b[39m=\u001b[39m \u001b[39minput\u001b[39m(\u001b[39m\"\u001b[39m\u001b[39mIngrese la distancia del segundo planeta en kilometros\u001b[39m\u001b[39m\"\u001b[39m)\n\u001b[1;32m----> <a href='vscode-notebook-cell:/c%3A/Users/miguel/launch%20X/Modulo5katas.ipynb#ch0000002?line=3'>4</a>\u001b[0m planeta_1 \u001b[39m=\u001b[39m \u001b[39mint\u001b[39;49m(planeta_1)\n\u001b[0;32m      <a href='vscode-notebook-cell:/c%3A/Users/miguel/launch%20X/Modulo5katas.ipynb#ch0000002?line=4'>5</a>\u001b[0m planeta_2 \u001b[39m=\u001b[39m \u001b[39mint\u001b[39m(planeta_2)\n\u001b[0;32m      <a href='vscode-notebook-cell:/c%3A/Users/miguel/launch%20X/Modulo5katas.ipynb#ch0000002?line=6'>7</a>\u001b[0m distancia_km \u001b[39m=\u001b[39m (planeta_1\u001b[39m-\u001b[39mplaneta_2)\n",
      "\u001b[1;31mValueError\u001b[0m: invalid literal for int() with base 10: ''"
     ]
    }
   ],
   "source": [
    "planeta_1 = input(\"ingrese la distancia del primer planeta en kilimetros\")\n",
    "planeta_2 = input(\"Ingrese la distancia del segundo planeta en kilometros\")\n",
    "\n",
    "planeta_1 = int(planeta_1)\n",
    "planeta_2 = int(planeta_2)\n",
    "\n",
    "distancia_km = (planeta_1-planeta_2)\n",
    "print(distancia_km)\n",
    "\n",
    "distacia_millas = (distancia_km*0.621)\n",
    "print(abs(distacia_millas))\n",
    "\n"
   ]
  },
  {
   "cell_type": "code",
   "execution_count": null,
   "metadata": {},
   "outputs": [],
   "source": []
  }
 ],
 "metadata": {
  "interpreter": {
   "hash": "441e9fd179e85eb39baac2e547c077111a88aff1a4e10d531f53e714562f0846"
  },
  "kernelspec": {
   "display_name": "Python 3.10.2 64-bit (windows store)",
   "language": "python",
   "name": "python3"
  },
  "language_info": {
   "codemirror_mode": {
    "name": "ipython",
    "version": 3
   },
   "file_extension": ".py",
   "mimetype": "text/x-python",
   "name": "python",
   "nbconvert_exporter": "python",
   "pygments_lexer": "ipython3",
   "version": "3.10.2"
  },
  "orig_nbformat": 4
 },
 "nbformat": 4,
 "nbformat_minor": 2
}
